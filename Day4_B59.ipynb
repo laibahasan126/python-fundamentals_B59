{
 "cells": [
  {
   "cell_type": "code",
   "execution_count": null,
   "id": "45147be9",
   "metadata": {},
   "outputs": [],
   "source": [
    "introduction to list datatypes"
   ]
  },
  {
   "cell_type": "code",
   "execution_count": 2,
   "id": "f813047d",
   "metadata": {},
   "outputs": [],
   "source": [
    "students = ['laiba','asna','aquib','radhika','sanuba','prial']"
   ]
  },
  {
   "cell_type": "code",
   "execution_count": 3,
   "id": "80b0b140",
   "metadata": {},
   "outputs": [
    {
     "name": "stdout",
     "output_type": "stream",
     "text": [
      "['laiba', 'asna', 'aquib', 'radhika', 'sanuba', 'prial']\n"
     ]
    }
   ],
   "source": [
    "print(students)"
   ]
  },
  {
   "cell_type": "code",
   "execution_count": 4,
   "id": "5b4ea329",
   "metadata": {},
   "outputs": [
    {
     "data": {
      "text/plain": [
       "list"
      ]
     },
     "execution_count": 4,
     "metadata": {},
     "output_type": "execute_result"
    }
   ],
   "source": [
    "type(students)"
   ]
  },
  {
   "cell_type": "code",
   "execution_count": null,
   "id": "d6fb80b3",
   "metadata": {},
   "outputs": [],
   "source": [
    "introduction to indexing"
   ]
  },
  {
   "cell_type": "code",
   "execution_count": 6,
   "id": "786b1270",
   "metadata": {},
   "outputs": [
    {
     "name": "stdout",
     "output_type": "stream",
     "text": [
      "aquib\n"
     ]
    }
   ],
   "source": [
    "print(students[2])"
   ]
  },
  {
   "cell_type": "code",
   "execution_count": 7,
   "id": "02d73026",
   "metadata": {},
   "outputs": [
    {
     "name": "stdout",
     "output_type": "stream",
     "text": [
      "prial\n"
     ]
    }
   ],
   "source": [
    "print(students[5])"
   ]
  },
  {
   "cell_type": "code",
   "execution_count": 8,
   "id": "7ce2ea44",
   "metadata": {},
   "outputs": [
    {
     "name": "stdout",
     "output_type": "stream",
     "text": [
      "Aquib\n"
     ]
    }
   ],
   "source": [
    "print(students[2].title())"
   ]
  },
  {
   "cell_type": "code",
   "execution_count": null,
   "id": "2038bbde",
   "metadata": {},
   "outputs": [],
   "source": [
    "add iram name to the babove list"
   ]
  },
  {
   "cell_type": "code",
   "execution_count": 9,
   "id": "af4be116",
   "metadata": {},
   "outputs": [],
   "source": [
    "students.append('iram')"
   ]
  },
  {
   "cell_type": "code",
   "execution_count": 10,
   "id": "d67a9be4",
   "metadata": {},
   "outputs": [
    {
     "name": "stdout",
     "output_type": "stream",
     "text": [
      "['laiba', 'asna', 'aquib', 'radhika', 'sanuba', 'prial', 'iram']\n"
     ]
    }
   ],
   "source": [
    "print(students)"
   ]
  },
  {
   "cell_type": "code",
   "execution_count": null,
   "id": "72e51673",
   "metadata": {
    "collapsed": true
   },
   "outputs": [],
   "source": [
    "want to add tasmiya to the 2nd index"
   ]
  },
  {
   "cell_type": "code",
   "execution_count": 11,
   "id": "b741cf0a",
   "metadata": {},
   "outputs": [],
   "source": [
    "students.insert(2,'tasmiysa')"
   ]
  },
  {
   "cell_type": "code",
   "execution_count": 12,
   "id": "6e60e4b6",
   "metadata": {},
   "outputs": [
    {
     "name": "stdout",
     "output_type": "stream",
     "text": [
      "['laiba', 'asna', 'tasmiysa', 'aquib', 'radhika', 'sanuba', 'prial', 'iram']\n"
     ]
    }
   ],
   "source": [
    "print(students)"
   ]
  },
  {
   "cell_type": "code",
   "execution_count": null,
   "id": "20b141b4",
   "metadata": {},
   "outputs": [],
   "source": [
    "how to modify element in list"
   ]
  },
  {
   "cell_type": "code",
   "execution_count": 13,
   "id": "9d92e24c",
   "metadata": {},
   "outputs": [
    {
     "name": "stdout",
     "output_type": "stream",
     "text": [
      "tasmiysa\n"
     ]
    }
   ],
   "source": [
    "print(students[2])"
   ]
  },
  {
   "cell_type": "code",
   "execution_count": 14,
   "id": "45a8b61c",
   "metadata": {},
   "outputs": [],
   "source": [
    "students[2] = 'bilal'"
   ]
  },
  {
   "cell_type": "code",
   "execution_count": 15,
   "id": "afff0898",
   "metadata": {},
   "outputs": [
    {
     "name": "stdout",
     "output_type": "stream",
     "text": [
      "bilal\n"
     ]
    }
   ],
   "source": [
    "print(students[2])"
   ]
  },
  {
   "cell_type": "code",
   "execution_count": 16,
   "id": "3e3edce3",
   "metadata": {},
   "outputs": [
    {
     "name": "stdout",
     "output_type": "stream",
     "text": [
      "['laiba', 'asna', 'bilal', 'aquib', 'radhika', 'sanuba', 'prial', 'iram']\n"
     ]
    }
   ],
   "source": [
    "print(students)"
   ]
  },
  {
   "cell_type": "code",
   "execution_count": null,
   "id": "e2dc512e",
   "metadata": {},
   "outputs": [],
   "source": [
    "how to delete the element in the list"
   ]
  },
  {
   "cell_type": "code",
   "execution_count": 17,
   "id": "55e0ff63",
   "metadata": {},
   "outputs": [],
   "source": [
    "del students[5]"
   ]
  },
  {
   "cell_type": "code",
   "execution_count": 18,
   "id": "f680d9da",
   "metadata": {},
   "outputs": [
    {
     "name": "stdout",
     "output_type": "stream",
     "text": [
      "['laiba', 'asna', 'bilal', 'aquib', 'radhika', 'prial', 'iram']\n"
     ]
    }
   ],
   "source": [
    "print(students)"
   ]
  },
  {
   "cell_type": "code",
   "execution_count": null,
   "id": "e39e98f0",
   "metadata": {},
   "outputs": [],
   "source": []
  },
  {
   "cell_type": "code",
   "execution_count": null,
   "id": "59701c54",
   "metadata": {},
   "outputs": [],
   "source": []
  }
 ],
 "metadata": {
  "kernelspec": {
   "display_name": "Python 3 (ipykernel)",
   "language": "python",
   "name": "python3"
  },
  "language_info": {
   "codemirror_mode": {
    "name": "ipython",
    "version": 3
   },
   "file_extension": ".py",
   "mimetype": "text/x-python",
   "name": "python",
   "nbconvert_exporter": "python",
   "pygments_lexer": "ipython3",
   "version": "3.9.12"
  }
 },
 "nbformat": 4,
 "nbformat_minor": 5
}
